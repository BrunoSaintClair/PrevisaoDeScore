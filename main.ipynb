{
 "cells": [
  {
   "cell_type": "markdown",
   "metadata": {},
   "source": [
    "# Projeto Python IA: Inteligência Artificial e Previsões\n",
    "\n",
    "### Case: Score de Crédito dos Clientes\n",
    "\n",
    "Você foi contratado por um banco para conseguir definir o score de crédito dos clientes. Você precisa analisar todos os clientes do banco e, com base nessa análise, criar um modelo que consiga ler as informações do cliente e dizer automaticamente o score de crédito dele: Ruim, Ok, Bom\n",
    "\n",
    "Arquivos da aula: https://drive.google.com/drive/folders/1FbDqVq4XLvU85VBlVIMJ73p9oOu6u2-J?usp=drive_link"
   ]
  },
  {
   "cell_type": "code",
   "execution_count": null,
   "metadata": {},
   "outputs": [],
   "source": [
    "# Passo a passo \n",
    "\n",
    "# 0- Entender o desafio da empresa\n",
    "# 1- Importar base de dados\n",
    "import pandas as pd\n",
    "\n",
    "tabela = pd.read_csv('clientes.csv')\n",
    "display(tabela.info())"
   ]
  },
  {
   "cell_type": "code",
   "execution_count": null,
   "metadata": {},
   "outputs": [],
   "source": [
    "# 2- Preparar a base de dados para IA\n",
    "# IA's necessitam receber apenas dados numericos\n",
    "# As colunas de: profissao, mix_credito, comportamento_pagamento, precisarao ser alteradas. \n",
    "\n",
    "from sklearn.preprocessing import LabelEncoder\n",
    "\n",
    "codificador = LabelEncoder()\n",
    "\n",
    "tabela['profissao'] = codificador.fit_transform(tabela['profissao']) # a antiga coluna recebe a nova coluna aplicando o codificador\n",
    "tabela['mix_credito'] = codificador.fit_transform(tabela['mix_credito'])\n",
    "tabela['comportamento_pagamento'] = codificador.fit_transform(tabela['comportamento_pagamento'])\n",
    "# (A de score_credito nao se encaixa pq eh o gabarito final q a gente quer q a IA preveja)\n",
    "\n",
    "display(tabela.info())"
   ]
  },
  {
   "cell_type": "code",
   "execution_count": null,
   "metadata": {},
   "outputs": [],
   "source": [
    "# Aprendizado de maquina\n",
    "# Existem dados de treino e dados de teste, nao faz sentido treinar com os dados que voce vai testar\n",
    "# coluna q a gente quer prever: y, as colunas q vao servir pra usar pra prever: x.\n",
    "\n",
    "y = tabela['score_credito']\n",
    "x = tabela.drop(columns=['score_credito', 'id_cliente'])\n",
    "\n",
    "from sklearn.model_selection import train_test_split\n",
    "\n",
    "# precisamos de x e y para teste, e x e y para treino\n",
    "x_treino, x_teste, y_treino, y_teste = train_test_split(x, y) # por padrao fica 70/30, usando como parametro test_size da pra alterar a proporcao\n"
   ]
  },
  {
   "cell_type": "code",
   "execution_count": null,
   "metadata": {},
   "outputs": [],
   "source": [
    "# 3- Criar um modelo de IA -> Score de credito, medio. bom ou ruim\n",
    "# Modelos: Arvore de decisao -> RandomForest, KNN -> Nearest neighbors\n",
    "\n",
    "# importa ia\n",
    "from sklearn.ensemble import RandomForestClassifier\n",
    "from sklearn.neighbors import KNeighborsClassifier\n",
    "\n",
    "# cria ia\n",
    "modelo_arvoredecisao = RandomForestClassifier()\n",
    "modelo_knn = KNeighborsClassifier()\n",
    "\n",
    "# treina ia\n",
    "modelo_arvoredecisao.fit(x_treino, y_treino)\n",
    "modelo_knn.fit(x_treino, y_treino)\n"
   ]
  },
  {
   "cell_type": "code",
   "execution_count": null,
   "metadata": {},
   "outputs": [],
   "source": [
    "# 4- Escolher melhor modelo\n",
    "from sklearn.metrics import accuracy_score\n",
    "\n",
    "previsao_arvoredecisao = modelo_arvoredecisao.predict(x_teste.to_numpy())\n",
    "previsao_knn = modelo_knn.predict(x_teste.to_numpy())\n",
    "\n",
    "# testar acuracia\n",
    "print('Porcentagem de acerto da Arvore de decisao:', accuracy_score(y_teste, previsao_arvoredecisao))\n",
    "print('Porcentagem de acerto da Knn:', accuracy_score(y_teste, previsao_knn))\n",
    "\n",
    "# Melhor modelo: Arvore de decisao"
   ]
  },
  {
   "cell_type": "code",
   "execution_count": null,
   "metadata": {},
   "outputs": [],
   "source": [
    "# 5- Usar a nossa IA para fazer novas previsoes \n",
    "\n",
    "# importar novos clientes\n",
    "tabela_novos_clientes = pd.read_csv('novos_clientes.csv')\n",
    "\n",
    "# codificar novos clientes\n",
    "tabela_novos_clientes['profissao'] = codificador.fit_transform(tabela_novos_clientes['profissao'])\n",
    "tabela_novos_clientes['mix_credito'] = codificador.fit_transform(tabela_novos_clientes['mix_credito'])\n",
    "tabela_novos_clientes['comportamento_pagamento'] = codificador.fit_transform(tabela_novos_clientes['comportamento_pagamento'])\n",
    "\n",
    "previsao_novos_clientes = modelo_arvoredecisao.predict(tabela_novos_clientes)\n",
    "print(previsao_novos_clientes)"
   ]
  }
 ],
 "metadata": {
  "kernelspec": {
   "display_name": "Python 3",
   "language": "python",
   "name": "python3"
  },
  "language_info": {
   "codemirror_mode": {
    "name": "ipython",
    "version": 3
   },
   "file_extension": ".py",
   "mimetype": "text/x-python",
   "name": "python",
   "nbconvert_exporter": "python",
   "pygments_lexer": "ipython3",
   "version": "3.12.0"
  },
  "orig_nbformat": 4
 },
 "nbformat": 4,
 "nbformat_minor": 2
}
